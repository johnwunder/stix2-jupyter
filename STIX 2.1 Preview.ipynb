{
 "cells": [
  {
   "cell_type": "markdown",
   "metadata": {},
   "source": [
    "# STIX 2.1 Preview\n",
    "\n",
    "## i18n\n",
    "\n",
    "Let's pretend we're an ISAC publishing an indicator in several different languages.\n",
    "\n",
    "**Note:** This STIX 2.1 Preview depends on the 2.1 development branch of cti-python-stix2. Assuming that you did a `pip install -r requirements.txt` to get the STIX 2.0 Training Jupyter notebook running, you'll need to do a couple of steps to replace the PyPi python-stix2 with the one from the stix2.1 branch on GitHub. Run the following commands in your Python virtual environment before proceeding:\n",
    "\n",
    "* `pip uninstall stix2`\n",
    "* `pip install git+git://github.com/oasis-open/cti-python-stix2.git@stix2.1#egg=stix2`"
   ]
  },
  {
   "cell_type": "code",
   "execution_count": null,
   "metadata": {},
   "outputs": [],
   "source": [
    "from stix2 import Indicator, LanguageContent, Identity, Campaign, ThreatActor, \\\n",
    "    Relationship, Opinion, ObjectFactory, CompositeDataSource, MemoryStore\n",
    "from jose import jws\n",
    "\n",
    "# First, let's pretend we're the CARNISAC...\n",
    "# (The ISAC for Carnivals, Circuses, Amusement Parks, and Licensed Games of Chance, natch.)\n",
    "\n",
    "isac_producer = Identity(name=\"CARNISAC\", identity_class=\"organization\", \n",
    "                         id=\"identity--3d368fac-7e96-4c66-b46c-8c763194a523\")\n",
    "\n",
    "# Now, let's publish an indicator...\n",
    "indicator = Indicator(name=\"File hash for malware variant\", \n",
    "                      pattern=\"[file:hashes.md5 = 'd41d8cd98f00b204e9800998ecf8427e']\",\n",
    "                      created_by_ref=\"identity--3d368fac-7e96-4c66-b46c-8c763194a523\",\n",
    "                      indicator_types=[\"malicious-activity\",],\n",
    "                      lang=\"en\",\n",
    "                      confidence=95)\n",
    "\n",
    "# Next, let's create a language content object for our indicator...\n",
    "indicator_trans = LanguageContent(object_ref=indicator.id, object_modified=indicator.modified, \n",
    "    contents={\n",
    "        \"fr\": {\"name\": \"Fichier hash pour la variante du malware\"},\n",
    "        \"nl\": {\"name\": \"Bestandshash voor malware-variant\"},\n",
    "        \"de\": {\"name\": \"Dateihash für Malware-Variante\"},\n",
    "        \"zh\": {\"name\": \"文件散列用於惡意軟件變體\"},\n",
    "        \"ru\": {\"name\": \"Хэш файла для варианта вредоносного ПО\"},\n",
    "        \"ja\": {\"name\": \"マルウェアバリアントのファイルハッシュ\"},\n",
    "        \"eo\": {\"name\": \"Dosiero hash por malware varianto\"},\n",
    "        \"ar\": {\"name\": \"تجزئة ملف لبرامج ضارة مختلفة\"}\n",
    "        },\n",
    "    created_by_ref=\"identity--3d368fac-7e96-4c66-b46c-8c763194a523\")"
   ]
  },
  {
   "cell_type": "code",
   "execution_count": null,
   "metadata": {},
   "outputs": [],
   "source": [
    "# Let's see how that looks...\n",
    "print(indicator_trans)"
   ]
  },
  {
   "cell_type": "code",
   "execution_count": null,
   "metadata": {},
   "outputs": [],
   "source": [
    "# Next, let's pretend that the elite CARNISAC analysts are ready to do some attribution...\n",
    "threat_actor = ThreatActor(name=\"Doctor Evil\",\n",
    "                           threat_actor_types=[\"terrorist\",],\n",
    "                           created_by_ref=\"identity--3d368fac-7e96-4c66-b46c-8c763194a523\",\n",
    "                           confidence=95)\n",
    "\n",
    "campaign = Campaign(name=\"Blow-up the moon\",\n",
    "                    created_by_ref=\"identity--3d368fac-7e96-4c66-b46c-8c763194a523\", \n",
    "                    confidence=80)\n",
    "\n",
    "# Of course, we need SROs to link all the SDOs together...\n",
    "rel1 = Relationship(source_ref=campaign.id,\n",
    "                    target_ref=threat_actor.id,\n",
    "                    relationship_type=\"attributed-to\",\n",
    "                    created_by_ref=\"identity--3d368fac-7e96-4c66-b46c-8c763194a523\",\n",
    "                    confidence=75)\n",
    "\n",
    "rel2 = Relationship(source_ref=indicator.id,\n",
    "                    target_ref=threat_actor.id, relationship_type=\"indicates\",\n",
    "                    created_by_ref=\"identity--3d368fac-7e96-4c66-b46c-8c763194a523\",\n",
    "                    confidence=70)"
   ]
  },
  {
   "cell_type": "code",
   "execution_count": null,
   "metadata": {},
   "outputs": [],
   "source": [
    "# Let's see how that looks...\n",
    "print(threat_actor, campaign, rel1, rel2)"
   ]
  },
  {
   "cell_type": "code",
   "execution_count": null,
   "metadata": {},
   "outputs": [],
   "source": [
    "# Now let's make up some fictitious CARNISAC member organizations\n",
    "company_foo = Identity(name=\"Foo, Inc.\", identity_class=\"organization\", \n",
    "                       id=\"identity--dbc4c981-60c4-45bd-a988-b56801e484f5\")\n",
    "\n",
    "company_bar = Identity(name=\"Bar, Inc.\", identity_class=\"organization\", \n",
    "                       id=\"identity--26eea235-040f-46e8-b6ef-5592c88da7ed\")\n",
    "\n",
    "company_baz = Identity(name=\"Baz, Inc.\", identity_class=\"organization\", \n",
    "                       id=\"identity--31e8b302-7654-4fa5-8b1e-608222dea432\")\n",
    "\n",
    "# All these orgs have teams of crackerjack analysts with their own opinions of CARNISAC's attribution...\n",
    "company_foo_opinion = Opinion(created_by_ref=\"identity--dbc4c981-60c4-45bd-a988-b56801e484f5\",\n",
    "                              object_refs=rel1.id, \n",
    "                              opinion=\"strongly-disagree\")\n",
    "\n",
    "company_bar_opinion = Opinion(created_by_ref=\"identity--26eea235-040f-46e8-b6ef-5592c88da7ed\",\n",
    "                              object_refs=rel1.id, \n",
    "                              opinion=\"agree\")\n",
    "\n",
    "company_baz_opinion = Opinion(created_by_ref=\"identity--31e8b302-7654-4fa5-8b1e-608222dea432\",\n",
    "                              object_refs=rel1.id, \n",
    "                              opinion=\"disagree\")"
   ]
  },
  {
   "cell_type": "code",
   "execution_count": null,
   "metadata": {},
   "outputs": [],
   "source": [
    "# Let's compare the community's assessment with CarnISAC's own confidence on its campaign attribution...\n",
    "\n",
    "opinion_map = {\n",
    "    \"strongly-disagree\": 1,\n",
    "    \"disagree\": 2,\n",
    "    \"neutral\": 3,\n",
    "    \"agree\": 4,\n",
    "    \"strongly-agree\": 5\n",
    "}\n",
    "\n",
    "# Just a little helper function...\n",
    "opinion_reverse_map = {v: k for k, v in opinion_map.items()}\n",
    "\n",
    "# Determine the average community opinion...\n",
    "opinions = [opinion_map[company_foo_opinion.opinion], opinion_map[company_bar_opinion.opinion], opinion_map[company_foo_opinion.opinion]]\n",
    "opinion_average = sum(opinions)/(len(opinions))\n",
    "\n",
    "print(\"CarnISAC's campaign attribution confidence: %i\" % (rel1.confidence))\n",
    "print(\"Average trust-group opinion of campaign attribution: %s\" % (opinion_reverse_map[opinion_average]))"
   ]
  },
  {
   "cell_type": "code",
   "execution_count": null,
   "metadata": {},
   "outputs": [],
   "source": [
    "# But, hey, CARNISAC has an international constituency...\n",
    "# Remember that LanguageContent object we created for our Indicator?\n",
    "# Let's have a look at that...\n",
    "\n",
    "from stix2.utils import new_version\n",
    "\n",
    "# Just another little helper function...\n",
    "def trans_lang(lang_content_obj, obj, lang):\n",
    "    new_props = {}\n",
    "    if lang in lang_content_obj.contents:\n",
    "        for i in lang_content_obj.contents[lang]:\n",
    "            if i in obj:\n",
    "                new_props[i] = lang_content_obj.contents[lang][i]\n",
    "    new_props[\"lang\"] = lang\n",
    "    trans_obj = new_version(obj, **new_props)\n",
    "    return(trans_obj)\n",
    "\n",
    "# Now, let's see how the translations work...\n",
    "new_obj = trans_lang(indicator_trans, indicator, 'ja')\n",
    "print(repr(new_obj))\n",
    "\n",
    "# That's all for now, folks. Hope you enjoyed it!"
   ]
  }
 ],
 "metadata": {
  "kernelspec": {
   "display_name": "Python 3",
   "language": "python",
   "name": "python3"
  },
  "language_info": {
   "codemirror_mode": {
    "name": "ipython",
    "version": 3
   },
   "file_extension": ".py",
   "mimetype": "text/x-python",
   "name": "python",
   "nbconvert_exporter": "python",
   "pygments_lexer": "ipython3",
   "version": "3.5.3"
  }
 },
 "nbformat": 4,
 "nbformat_minor": 2
}
