{
 "cells": [
  {
   "cell_type": "markdown",
   "metadata": {},
   "source": [
    "# TAXII 2.0 Tutorial\n",
    "\n",
    "Connect to the UberTAXII server, list API roots, and pull some STIX data."
   ]
  },
  {
   "cell_type": "code",
   "execution_count": null,
   "metadata": {},
   "outputs": [],
   "source": [
    "# A \"Server\" object pulls general information about the server, and gives you a list of API roots.\n",
    "# Connect to it by providing the URL, username, and password.\n",
    "\n",
    "from taxii2client import Server\n",
    "server = Server('https://ubertaxii.com/taxii/', user='ubertaxii', password='certain_players_want_a_pony')"
   ]
  },
  {
   "cell_type": "code",
   "execution_count": null,
   "metadata": {},
   "outputs": [],
   "source": [
    "# Print some basic information, available without making additional requests.\n",
    "\n",
    "print(\"Title:\\t\\t\" + server.title)\n",
    "print(\"Description:\\t\" + server.description)"
   ]
  },
  {
   "cell_type": "code",
   "execution_count": null,
   "metadata": {},
   "outputs": [],
   "source": [
    "# Iterate through the API roots. Note that addtional requests are made automatically to get the title and description.\n",
    "\n",
    "for api_root in server.api_roots:\n",
    "    print(api_root.title)\n",
    "    print(api_root.description)\n",
    "    print(api_root.url)\n",
    "    print(\"\\n\")"
   ]
  },
  {
   "cell_type": "code",
   "execution_count": null,
   "metadata": {},
   "outputs": [],
   "source": [
    "# Get the list of collections for an API root (using MITRE's)\n",
    "\n",
    "mitre_api_root = server.api_roots[3]\n",
    "for collection in mitre_api_root.collections:\n",
    "    print(collection.title)"
   ]
  },
  {
   "cell_type": "markdown",
   "metadata": {},
   "source": [
    "# STIX 2.0 Tutorial\n",
    "\n",
    "Starting with our reference to a TAXII server, do some stuff with STIX data"
   ]
  },
  {
   "cell_type": "code",
   "execution_count": null,
   "metadata": {},
   "outputs": [],
   "source": [
    "from stix2 import TAXIICollectionSource, Filter\n",
    "\n",
    "taxii_source = TAXIICollectionSource(mitre_api_root.collections[0])"
   ]
  },
  {
   "cell_type": "code",
   "execution_count": null,
   "metadata": {},
   "outputs": [],
   "source": [
    "results = taxii_source.query(Filter(\"type\", \"=\", \"intrusion-set\"))\n",
    "print(\"Got {} results\".format(len(results)))"
   ]
  },
  {
   "cell_type": "code",
   "execution_count": null,
   "metadata": {},
   "outputs": [],
   "source": [
    "apt_xxx = results[36]\n",
    "print(apt_xxx.name) # Note that it's a python-stix2 object already, no need to parse the JSON"
   ]
  },
  {
   "cell_type": "code",
   "execution_count": null,
   "metadata": {},
   "outputs": [],
   "source": [
    "# What malware and tools does that intrusion set use?\n",
    "\n",
    "# Find relationships where the source is that intrusion set\n",
    "all_relationships = taxii_source.query(Filter(\"type\", \"=\", \"relationship\"))\n",
    "relationships = [r for r in all_relationships if r.source_ref == apt_xxx.id]\n",
    "print(\"Found {} relationships\".format(len(relationships)))"
   ]
  },
  {
   "cell_type": "code",
   "execution_count": null,
   "metadata": {},
   "outputs": [],
   "source": [
    "for rel in relationships:\n",
    "    target = taxii_source.get(rel.target_ref)\n",
    "    print(\"{} {} {} ({})\".format(apt_xxx.name, rel.relationship_type, target.name, target.type))\n",
    "\n",
    "# Gotcha! Note that this does not optimize the number of calls.\n",
    "# You still need to know when a TAXII request is going to be made and when the result is available locally.\n",
    "# Also, watch for n+1 queries (like here) and try to optimize if possible"
   ]
  },
  {
   "cell_type": "markdown",
   "metadata": {},
   "source": [
    "## Make it Easy: Environments\n",
    "Use environments to add default sources, sinks, etc."
   ]
  },
  {
   "cell_type": "code",
   "execution_count": null,
   "metadata": {},
   "outputs": [],
   "source": [
    "from stix2 import Environment, MemoryStore\n",
    "\n",
    "taxiisource = TAXIICollectionSource(mitre_api_root.collections[0])\n",
    "env = Environment(source=taxiisource)"
   ]
  },
  {
   "cell_type": "code",
   "execution_count": null,
   "metadata": {},
   "outputs": [],
   "source": [
    "env.get(apt_xxx.id).name"
   ]
  },
  {
   "cell_type": "code",
   "execution_count": null,
   "metadata": {},
   "outputs": [],
   "source": [
    "# Try the other direction\n",
    "rels = env.query(Filter(\"source_ref\", \"=\", apt_xxx.id))\n",
    "print(len(rels))\n",
    "\n",
    "# Note the delay: not all filters happen server-side,\n",
    "# it sometimes transparently just pulls all data and filters at the client"
   ]
  },
  {
   "cell_type": "code",
   "execution_count": null,
   "metadata": {},
   "outputs": [],
   "source": [
    "malware = env.get(rels[1].target_ref)\n",
    "malware.name"
   ]
  },
  {
   "cell_type": "markdown",
   "metadata": {},
   "source": [
    "## Sharing back: Creating STIX\n",
    "\n",
    "You can also use the enviornment to set defaults so you don't have to duplicate adding standard markings, etc."
   ]
  },
  {
   "cell_type": "code",
   "execution_count": null,
   "metadata": {},
   "outputs": [],
   "source": [
    "from stix2 import Indicator, Relationship, ObjectFactory, CompositeDataSource\n",
    "\n",
    "factory = ObjectFactory(created_by_ref=\"identity--311b2d2d-f010-5473-83ec-1edf84858f4c\")\n",
    "source = CompositeDataSource()\n",
    "memorystore = MemoryStore()\n",
    "source.add_data_sources([memorystore.source, taxiisource])\n",
    "env2 = Environment(factory=factory, source=source, sink=memorystore)\n",
    "\n",
    "ind = factory.create(Indicator,\n",
    "                     labels=[\"malicious-activity\"],\n",
    "                     pattern=\"[file:hashes.md5 = 'd41d8cd98f00b204e9800998ecf8427e']\")\n",
    "rel = factory.create(Relationship, source_ref=ind.id, target_ref=malware.id, relationship_type=\"indicates\")\n",
    "print(rel)"
   ]
  },
  {
   "cell_type": "code",
   "execution_count": null,
   "metadata": {},
   "outputs": [],
   "source": [
    "# Push to our memory data source\n",
    "env2.add(ind)\n",
    "env2.add(rel)"
   ]
  },
  {
   "cell_type": "code",
   "execution_count": null,
   "metadata": {},
   "outputs": [],
   "source": [
    "# Is it still there?\n",
    "print(env2.get(rel.id))"
   ]
  },
  {
   "cell_type": "code",
   "execution_count": null,
   "metadata": {},
   "outputs": [],
   "source": [
    "# setup writable API root\n",
    "from stix2 import TAXIICollectionSink\n",
    "\n",
    "scratch_api_root = server.api_roots[4]\n",
    "for collection in scratch_api_root.collections:\n",
    "    print(collection.title)\n",
    "taxii_sink = TAXIICollectionSink(scratch_api_root.collections[0])\n",
    "env3 = Environment(factory=factory, source=source, sink=taxii_sink)"
   ]
  },
  {
   "cell_type": "code",
   "execution_count": null,
   "metadata": {},
   "outputs": [],
   "source": [
    "# Push to our memory data source\n",
    "env3.add(ind)\n",
    "env3.add(rel)"
   ]
  },
  {
   "cell_type": "code",
   "execution_count": null,
   "metadata": {},
   "outputs": [],
   "source": [
    "# Is it still there?\n",
    "print(env3.get(rel.id))\n",
    "\n",
    "# NOTE: This is hitting the TAXII collection we just wrote to..."
   ]
  }
 ],
 "metadata": {
  "kernelspec": {
   "display_name": "Python 3",
   "language": "python",
   "name": "python3"
  },
  "language_info": {
   "codemirror_mode": {
    "name": "ipython",
    "version": 3
   },
   "file_extension": ".py",
   "mimetype": "text/x-python",
   "name": "python",
   "nbconvert_exporter": "python",
   "pygments_lexer": "ipython3",
   "version": "3.5.3"
  }
 },
 "nbformat": 4,
 "nbformat_minor": 2
}
